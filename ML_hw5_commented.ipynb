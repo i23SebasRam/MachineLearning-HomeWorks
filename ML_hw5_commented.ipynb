{
  "cells": [
    {
      "cell_type": "markdown",
      "metadata": {
        "id": "WrVPClmlmrLj"
      },
      "source": [
        "# Predicción de Potabilidad del Agua\n",
        "\n",
        "En esta ocasión se busca desarrollar un proceso de búsqueda de hiperparámetros para un modelo de Máquina de Soporte Vectorial (SVM).\n",
        "\n",
        "Se sugiere fuertemente leer la documentación entregada en los artículos de los links.\n",
        "\n",
        "Debe completar las celdas vacías y seguir las instrucciones anotadas en el cuaderno. La fecha límite de entrega es el día **22 de noviembre** y se realizará a través de Bloque Neón."
      ]
    },
    {
      "cell_type": "code",
      "execution_count": 1,
      "metadata": {
        "id": "ZX5NqxvemrL2"
      },
      "outputs": [],
      "source": [
        "import pandas as pd\n",
        "import numpy as np\n",
        "import sklearn\n",
        "from sklearn.preprocessing import OrdinalEncoder, MinMaxScaler, RobustScaler\n",
        "import matplotlib.pyplot as plt"
      ]
    },
    {
      "cell_type": "markdown",
      "metadata": {
        "id": "PM4hi8pbmrL4"
      },
      "source": [
        "Lectura de CSV y borrado de filas incompletas."
      ]
    },
    {
      "cell_type": "code",
      "execution_count": 2,
      "metadata": {
        "id": "DhCFUhSwmrL4",
        "outputId": "7f35b907-727e-4447-dda4-75b48706539f"
      },
      "outputs": [
        {
          "data": {
            "text/html": [
              "<div>\n",
              "<style scoped>\n",
              "    .dataframe tbody tr th:only-of-type {\n",
              "        vertical-align: middle;\n",
              "    }\n",
              "\n",
              "    .dataframe tbody tr th {\n",
              "        vertical-align: top;\n",
              "    }\n",
              "\n",
              "    .dataframe thead th {\n",
              "        text-align: right;\n",
              "    }\n",
              "</style>\n",
              "<table border=\"1\" class=\"dataframe\">\n",
              "  <thead>\n",
              "    <tr style=\"text-align: right;\">\n",
              "      <th></th>\n",
              "      <th>ph</th>\n",
              "      <th>Hardness</th>\n",
              "      <th>Solids</th>\n",
              "      <th>Chloramines</th>\n",
              "      <th>Sulfate</th>\n",
              "      <th>Conductivity</th>\n",
              "      <th>Organic_carbon</th>\n",
              "      <th>Trihalomethanes</th>\n",
              "      <th>Turbidity</th>\n",
              "      <th>Potability</th>\n",
              "    </tr>\n",
              "  </thead>\n",
              "  <tbody>\n",
              "    <tr>\n",
              "      <th>3</th>\n",
              "      <td>8.316766</td>\n",
              "      <td>214.373394</td>\n",
              "      <td>22018.417441</td>\n",
              "      <td>8.059332</td>\n",
              "      <td>356.886136</td>\n",
              "      <td>363.266516</td>\n",
              "      <td>18.436524</td>\n",
              "      <td>100.341674</td>\n",
              "      <td>4.628771</td>\n",
              "      <td>0</td>\n",
              "    </tr>\n",
              "    <tr>\n",
              "      <th>4</th>\n",
              "      <td>9.092223</td>\n",
              "      <td>181.101509</td>\n",
              "      <td>17978.986339</td>\n",
              "      <td>6.546600</td>\n",
              "      <td>310.135738</td>\n",
              "      <td>398.410813</td>\n",
              "      <td>11.558279</td>\n",
              "      <td>31.997993</td>\n",
              "      <td>4.075075</td>\n",
              "      <td>0</td>\n",
              "    </tr>\n",
              "    <tr>\n",
              "      <th>5</th>\n",
              "      <td>5.584087</td>\n",
              "      <td>188.313324</td>\n",
              "      <td>28748.687739</td>\n",
              "      <td>7.544869</td>\n",
              "      <td>326.678363</td>\n",
              "      <td>280.467916</td>\n",
              "      <td>8.399735</td>\n",
              "      <td>54.917862</td>\n",
              "      <td>2.559708</td>\n",
              "      <td>0</td>\n",
              "    </tr>\n",
              "    <tr>\n",
              "      <th>6</th>\n",
              "      <td>10.223862</td>\n",
              "      <td>248.071735</td>\n",
              "      <td>28749.716544</td>\n",
              "      <td>7.513408</td>\n",
              "      <td>393.663396</td>\n",
              "      <td>283.651634</td>\n",
              "      <td>13.789695</td>\n",
              "      <td>84.603556</td>\n",
              "      <td>2.672989</td>\n",
              "      <td>0</td>\n",
              "    </tr>\n",
              "    <tr>\n",
              "      <th>7</th>\n",
              "      <td>8.635849</td>\n",
              "      <td>203.361523</td>\n",
              "      <td>13672.091764</td>\n",
              "      <td>4.563009</td>\n",
              "      <td>303.309771</td>\n",
              "      <td>474.607645</td>\n",
              "      <td>12.363817</td>\n",
              "      <td>62.798309</td>\n",
              "      <td>4.401425</td>\n",
              "      <td>0</td>\n",
              "    </tr>\n",
              "  </tbody>\n",
              "</table>\n",
              "</div>"
            ],
            "text/plain": [
              "          ph    Hardness        Solids  Chloramines     Sulfate  Conductivity  \\\n",
              "3   8.316766  214.373394  22018.417441     8.059332  356.886136    363.266516   \n",
              "4   9.092223  181.101509  17978.986339     6.546600  310.135738    398.410813   \n",
              "5   5.584087  188.313324  28748.687739     7.544869  326.678363    280.467916   \n",
              "6  10.223862  248.071735  28749.716544     7.513408  393.663396    283.651634   \n",
              "7   8.635849  203.361523  13672.091764     4.563009  303.309771    474.607645   \n",
              "\n",
              "   Organic_carbon  Trihalomethanes  Turbidity  Potability  \n",
              "3       18.436524       100.341674   4.628771           0  \n",
              "4       11.558279        31.997993   4.075075           0  \n",
              "5        8.399735        54.917862   2.559708           0  \n",
              "6       13.789695        84.603556   2.672989           0  \n",
              "7       12.363817        62.798309   4.401425           0  "
            ]
          },
          "execution_count": 2,
          "metadata": {},
          "output_type": "execute_result"
        }
      ],
      "source": [
        "#Para Collab.\n",
        "#df = pd.read_csv('waterPotability/water_potability.csv').dropna()\n",
        "main_path = \"C:/Users/SEBASTIAN/OneDrive - Universidad de los Andes/OctavoSemestre/Machine Learning/Trabajos/ML_hw5/waterPotability/water_potability.csv\"\n",
        "df = pd.read_csv(main_path)\n",
        "df = df.dropna()\n",
        "df.head()"
      ]
    },
    {
      "cell_type": "markdown",
      "metadata": {
        "id": "phQHJu8UmrL6"
      },
      "source": [
        "Gráfica de proporción de clases. A continuación puede observar una desproporción entre los datos, por lo que se está lidiando con un problema desbalanceado."
      ]
    },
    {
      "cell_type": "code",
      "execution_count": 3,
      "metadata": {
        "id": "QXDf7JKamrMD",
        "outputId": "48fe723b-ece0-4bda-bf3f-adc49c5a0947"
      },
      "outputs": [
        {
          "data": {
            "text/plain": [
              "<AxesSubplot:ylabel='Potability'>"
            ]
          },
          "execution_count": 3,
          "metadata": {},
          "output_type": "execute_result"
        },
        {
          "data": {
            "image/png": "[encoded data removed]",
            "text/plain": [
              "<Figure size 432x288 with 1 Axes>"
            ]
          },
          "metadata": {},
          "output_type": "display_data"
        }
      ],
      "source": [
        "df['Potability'].value_counts().plot(kind='pie')"
      ]
    },
    {
      "cell_type": "markdown",
      "metadata": {
        "id": "FiHhZLWAmrMG"
      },
      "source": [
        "### Manejo de Datos Desbalanceados: Remuestreo"
      ]
    },
    {
      "cell_type": "code",
      "execution_count": 4,
      "metadata": {
        "id": "9HX9RnOcmrMH"
      },
      "outputs": [],
      "source": [
        "from sklearn.utils import resample\n",
        "from sklearn.utils import shuffle\n",
        "\n",
        "zero  = df[df['Potability']==0]   # clase 0\n",
        "one = df[df['Potability']==1]  # clase 1\n",
        "\n",
        "df_minority_upsampled = resample(one, replace = True, n_samples = 1200)\n",
        "df = pd.concat([zero, df_minority_upsampled])\n",
        "\n",
        "df = shuffle(df) # shuffling so that there is particular sequence"
      ]
    },
    {
      "cell_type": "code",
      "execution_count": 5,
      "metadata": {
        "id": "qugn0j3fmrMI",
        "outputId": "8117656a-d1df-4462-92c4-4652d578c950"
      },
      "outputs": [
        {
          "data": {
            "text/plain": [
              "<AxesSubplot:ylabel='Potability'>"
            ]
          },
          "execution_count": 5,
          "metadata": {},
          "output_type": "execute_result"
        },
        {
          "data": {
            "image/png": "[encoded data removed]",
            "text/plain": [
              "<Figure size 432x288 with 1 Axes>"
            ]
          },
          "metadata": {},
          "output_type": "display_data"
        }
      ],
      "source": [
        "df['Potability'].value_counts().plot(kind='pie')"
      ]
    },
    {
      "cell_type": "code",
      "execution_count": 6,
      "metadata": {
        "id": "GjGPYoR5mrMK"
      },
      "outputs": [],
      "source": [
        "X = df.drop(['Potability'], axis = 1)\n",
        "y = df['Potability']"
      ]
    },
    {
      "cell_type": "code",
      "execution_count": 7,
      "metadata": {
        "id": "pQso79PLmrML"
      },
      "outputs": [],
      "source": [
        "from sklearn.svm import SVC\n",
        "\n",
        "from sklearn.metrics import accuracy_score\n",
        "from sklearn.model_selection import train_test_split"
      ]
    },
    {
      "cell_type": "markdown",
      "metadata": {
        "id": "jo87V9a3mrML"
      },
      "source": [
        "### Separación en Conjuntos de Validación/Prueba\n",
        "\n",
        "Separe los datos (`X` y `y`) en conjuntos de:\n",
        "\n",
        "- Entrenamiento (70%)\n",
        "- Validación (15%)\n",
        "- Prueba (15%)\n",
        "\n",
        "Utilizando `train_test_split`."
      ]
    },
    {
      "cell_type": "code",
      "execution_count": 8,
      "metadata": {
        "id": "bCOvWvE6mrMM"
      },
      "outputs": [],
      "source": [
        "x_train,x_test,y_train,y_test = train_test_split(X,y,test_size=0.30,random_state=1)\n",
        "x_val,x_test,y_val,y_test = train_test_split(x_test,y_test,test_size=0.5,random_state=3)"
      ]
    },
    {
      "cell_type": "code",
      "execution_count": 9,
      "metadata": {
        "id": "kS6MQPL3mrMM",
        "outputId": "f040ce96-956d-4da1-f4db-fa437ee6406a"
      },
      "outputs": [
        {
          "name": "stdout",
          "output_type": "stream",
          "text": [
            "1680 360 360\n"
          ]
        }
      ],
      "source": [
        "print(len(x_train),len(x_val),len(x_test))"
      ]
    },
    {
      "cell_type": "markdown",
      "metadata": {
        "id": "vaeoCFsTmrMN"
      },
      "source": [
        "## Parte 1: Evaluación de Modelos y GridSearch\n",
        "\n",
        "Como recordará, en la tarea anterior se realizó un proceso de GridSearch y RandomizedSearch. En esta ocasión, nuevamente implementará este procedimiento para encontrar los mejores hiperparámetros.\n",
        "\n",
        "Esta vez, se le solicita **desarrollar cada uno de los casos de forma manual y sin utilizar la librería SciKit-Learn (utilice ciclos `for`), obtener los mejores parámetros para los datos de VALIDACIÓN y graficar el histórico para los rangos del parámetro de regularización.**\n",
        "\n",
        "- Kernel: Lineal, Polinomial (utilizar grados 1, 2, 3 y 4), Función Base Radial (RBF), Sigmoide.\n",
        "- Parámetro de Regularización: Recorrido en escala logarítmica desde $10^{-3}$ hasta $10^{5}$.\n",
        "\n",
        "Utilice la función `SVC` de `sklearn.svm` para definir y ajustar cada modelo."
      ]
    },
    {
      "cell_type": "code",
      "execution_count": null,
      "metadata": {
        "id": "ETiNj2pTmrMO",
        "outputId": "37ef4d7d-7549-43b2-b422-989f3c988508"
      },
      "outputs": [
        {
          "name": "stdout",
          "output_type": "stream",
          "text": [
            "[1.00000000e-03 4.64158883e-03 2.15443469e-02 1.00000000e-01\n",
            " 4.64158883e-01 2.15443469e+00 1.00000000e+01 4.64158883e+01\n",
            " 2.15443469e+02 1.00000000e+03]\n",
            "[1.00000000e-03 7.74263683e-03 5.99484250e-02 4.64158883e-01\n",
            " 3.59381366e+00 2.78255940e+01 2.15443469e+02 1.66810054e+03\n",
            " 1.29154967e+04 1.00000000e+05]\n"
          ]
        }
      ],
      "source": [
        "#para_regul = np.linspace(1E-3,1E5,num = 10)\n",
        "para_regul_lineal = np.logspace(-3,3,num = 10)\n",
        "print(para_regul_lineal)\n",
        "para_regul = np.logspace(-3,5,num = 10)\n",
        "print(para_regul)"
      ]
    },
    {
      "cell_type": "markdown",
      "metadata": {
        "id": "dAKQnCUDmrMX"
      },
      "source": [
        "### Búsqueda de Hiperparámetros con GridSearch\n",
        "\n",
        "#### Caso 1: Kernel Lineal"
      ]
    },
    {
      "cell_type": "code",
      "execution_count": null,
      "metadata": {
        "id": "MUC3jy-3mrMZ",
        "outputId": "6be3fa37-8d39-4264-bf25-4e34a9428685"
      },
      "outputs": [
        {
          "name": "stdout",
          "output_type": "stream",
          "text": [
            "0.4388888888888889 0.001\n",
            "0.4638888888888889 0.004641588833612777\n",
            "0.46944444444444444 0.021544346900318832\n",
            "0.4722222222222222 0.1\n",
            "0.4861111111111111 0.46415888336127775\n"
          ]
        }
      ],
      "source": [
        "max_score_lineal = 0\n",
        "score_lineal = np.array([])\n",
        "best_model_lineal = 0\n",
        "for i in para_regul_lineal:\n",
        "    svc_linear = SVC(kernel='linear',C=i)\n",
        "    svc_linear.fit(x_train,y_train)\n",
        "    pred = svc_linear.predict(x_test)\n",
        "    sco_lineal = accuracy_score(y_test,pred)\n",
        "    score_lineal = np.append(score_lineal,sco_lineal)\n",
        "    if sco_lineal > max_score_lineal:\n",
        "        print(sco_lineal,i)\n",
        "        max_score_lineal = sco_lineal\n",
        "        best_model_lineal = svc_linear"
      ]
    },
    {
      "cell_type": "code",
      "execution_count": null,
      "metadata": {
        "id": "T0RSsMRfmrMZ",
        "outputId": "ea6f5f45-c01c-4ed0-f359-90d4b774d2b9"
      },
      "outputs": [
        {
          "name": "stdout",
          "output_type": "stream",
          "text": [
            "the best score is 0.4861111111111111\n",
            "The best model is with the C equal to 0.46415888336127775\n"
          ]
        }
      ],
      "source": [
        "print(f'the best score is {score_lineal.max()}')\n",
        "print(f'The best model is with the C equal to {para_regul_lineal[np.argmax(score_lineal)]}')"
      ]
    },
    {
      "cell_type": "markdown",
      "metadata": {
        "id": "VXgCKT2WmrMa"
      },
      "source": [
        "#### Caso 2: Kernel Polinomial"
      ]
    },
    {
      "cell_type": "code",
      "execution_count": null,
      "metadata": {
        "id": "e0Ao_Cx2mrMa",
        "outputId": "1f06197a-19fe-4ca8-a5ad-922c4de13c37"
      },
      "outputs": [
        {
          "name": "stdout",
          "output_type": "stream",
          "text": [
            "0.4638888888888889 0.001 1\n",
            "0.5222222222222223 0.007742636826811269 2\n",
            "0.5333333333333333 0.05994842503189409 2\n"
          ]
        }
      ],
      "source": [
        "max_score_polinomial = 0\n",
        "score_polinomial = np.zeros((4,10))\n",
        "best_model_poli = 0\n",
        "deg = [i for i in range(1,4,1)]\n",
        "for id,i in enumerate(para_regul):\n",
        "    for idx,j in enumerate(deg):\n",
        "        svc_poly = SVC(kernel='poly',C=i,degree=j)\n",
        "        svc_poly.fit(x_train,y_train)\n",
        "        pred = svc_poly.predict(x_test)\n",
        "        sco_poly = accuracy_score(y_test,pred)\n",
        "        score_polinomial[idx,id] = sco_poly\n",
        "        if sco_poly > max_score_polinomial:\n",
        "            print(sco_poly,i,j)\n",
        "            max_score_polinomial = sco_poly\n",
        "            best_model_poli = svc_poly"
      ]
    },
    {
      "cell_type": "code",
      "execution_count": null,
      "metadata": {
        "id": "MVaNUdnimrMb",
        "outputId": "a9bb5538-85d4-461d-b2e5-87489ff84ca6"
      },
      "outputs": [
        {
          "name": "stdout",
          "output_type": "stream",
          "text": [
            "the best score is 0.5333333333333333\n"
          ]
        }
      ],
      "source": [
        "print(f'the best score is {score_polinomial.max()}')\n",
        "#print(f'The best model is with the C equal to {para_regul[np.argmax(score_polinomial)]}')"
      ]
    },
    {
      "cell_type": "markdown",
      "metadata": {
        "id": "B8N5IHKamrMb"
      },
      "source": [
        "#### Caso 3: Función Base Radial"
      ]
    },
    {
      "cell_type": "code",
      "execution_count": null,
      "metadata": {
        "id": "Akw-8ZqbmrMc",
        "outputId": "d6a8dbed-dfbf-41dc-a457-9aa84f204f6c"
      },
      "outputs": [
        {
          "name": "stdout",
          "output_type": "stream",
          "text": [
            "0.4638888888888889 0.001\n",
            "0.4861111111111111 0.05994842503189409\n",
            "0.49722222222222223 0.46415888336127775\n",
            "0.5 3.593813663804626\n",
            "0.5083333333333333 1668.1005372000557\n",
            "0.5444444444444444 12915.496650148827\n"
          ]
        }
      ],
      "source": [
        "max_score_rbf = 0\n",
        "score_rbf = np.array([])\n",
        "best_model_rbf = 0\n",
        "for i in para_regul:\n",
        "    svc_rbf = SVC(kernel='rbf',C=i)\n",
        "    svc_rbf.fit(x_train,y_train)\n",
        "    pred = svc_rbf.predict(x_test)\n",
        "    sco_rbf = accuracy_score(y_test,pred)\n",
        "    score_rbf = np.append(score_rbf,sco_rbf)\n",
        "    if sco_rbf > max_score_rbf:\n",
        "        print(sco_rbf,i)\n",
        "        max_score_rbf = sco_rbf\n",
        "        best_model_rbf = svc_rbf"
      ]
    },
    {
      "cell_type": "code",
      "execution_count": null,
      "metadata": {
        "id": "kCvEi8ubmrMc",
        "outputId": "f6cba0ce-af56-4746-c4b9-fbcd7fc7c652"
      },
      "outputs": [
        {
          "name": "stdout",
          "output_type": "stream",
          "text": [
            "the best score is 0.5444444444444444\n",
            "The best model is with the C equal to 12915.496650148827\n"
          ]
        }
      ],
      "source": [
        "print(f'the best score is {score_rbf.max()}')\n",
        "print(f'The best model is with the C equal to {para_regul[np.argmax(score_rbf)]}')"
      ]
    },
    {
      "cell_type": "markdown",
      "metadata": {
        "id": "ovO4y0eLmrMd"
      },
      "source": [
        "#### Caso 4: Kernel Sigmoide"
      ]
    },
    {
      "cell_type": "code",
      "execution_count": null,
      "metadata": {
        "id": "sOHTyuzWmrMd",
        "outputId": "37912a93-23b6-413e-dd67-0d906280b7b7"
      },
      "outputs": [
        {
          "name": "stdout",
          "output_type": "stream",
          "text": [
            "0.4638888888888889\n",
            "0.49444444444444446\n",
            "0.49722222222222223\n"
          ]
        }
      ],
      "source": [
        "max_score_sigm = 0\n",
        "score_sigm = np.array([])\n",
        "best_model_sigm = 0\n",
        "for i in para_regul:\n",
        "    svc_sigm = SVC(kernel='sigmoid',C=i)\n",
        "    svc_sigm.fit(x_train,y_train)\n",
        "    pred = svc_sigm.predict(x_test)\n",
        "    sco_sigm = accuracy_score(y_test,pred)\n",
        "    score_sigm = np.append(score_sigm,sco_sigm)\n",
        "    if sco_sigm > max_score_sigm:\n",
        "        print(sco_sigm)\n",
        "        max_score_sigm = sco_sigm\n",
        "        best_model_sigm = svc_sigm"
      ]
    },
    {
      "cell_type": "code",
      "execution_count": null,
      "metadata": {
        "id": "wLE2uLhamrMd",
        "outputId": "e54d46a6-b826-4e17-e3b5-2daf165db2f8"
      },
      "outputs": [
        {
          "name": "stdout",
          "output_type": "stream",
          "text": [
            "the best score is 0.49722222222222223\n",
            "The best model is with the C equal to 27.825594022071257\n"
          ]
        }
      ],
      "source": [
        "print(f'the best score is {score_sigm.max()}')\n",
        "print(f'The best model is with the C equal to {para_regul[np.argmax(score_sigm)]}')"
      ]
    },
    {
      "cell_type": "markdown",
      "metadata": {
        "id": "URcyS8dzmrMd"
      },
      "source": [
        "### Best results"
      ]
    },
    {
      "cell_type": "code",
      "execution_count": null,
      "metadata": {
        "id": "spJRZ-oJmrMe",
        "outputId": "9c1a2e6b-13d9-4a44-fec4-5f20f36197bc"
      },
      "outputs": [
        {
          "name": "stdout",
          "output_type": "stream",
          "text": [
            "the best score for SVC linear: 0.4861111111111111 (C=0.46416)\n",
            "\n",
            "\n",
            "the best score for SVC Polinomial: 0.5333333333333333 (Degree: 2, C=0.05995)\n",
            "\n",
            "\n",
            "the best score for SVC rbf: 0.5444444444444444 (C=12915.49665)\n",
            "\n",
            "\n",
            "the best score for SVC sigmoid 0.49722222222222223 (C=27.82559)\n"
          ]
        }
      ],
      "source": [
        "print(f'the best score for SVC linear: {score_lineal.max()} (C=0.46416)')\n",
        "print('\\n')\n",
        "print(f'the best score for SVC Polinomial: {score_polinomial.max()} (Degree: 2, C=0.05995)')\n",
        "print('\\n')\n",
        "print(f'the best score for SVC rbf: {score_rbf.max()} (C=12915.49665)')\n",
        "print('\\n')\n",
        "print(f'the best score for SVC sigmoid {score_sigm.max()} (C=27.82559)')\n"
      ]
    },
    {
      "cell_type": "markdown",
      "metadata": {
        "id": "UYnSYix_mrMe"
      },
      "source": [
        "### Other iteration of Grid Search around the best point"
      ]
    },
    {
      "cell_type": "code",
      "execution_count": null,
      "metadata": {
        "id": "1pDM6ACYmrMe",
        "outputId": "6cadf60b-30e2-4205-8789-4d7a77ffd6ec"
      },
      "outputs": [
        {
          "name": "stdout",
          "output_type": "stream",
          "text": [
            "[11500.         11520.2020202  11540.4040404  11560.60606061\n",
            " 11580.80808081 11601.01010101 11621.21212121 11641.41414141\n",
            " 11661.61616162 11681.81818182 11702.02020202 11722.22222222\n",
            " 11742.42424242 11762.62626263 11782.82828283 11803.03030303\n",
            " 11823.23232323 11843.43434343 11863.63636364 11883.83838384\n",
            " 11904.04040404 11924.24242424 11944.44444444 11964.64646465\n",
            " 11984.84848485 12005.05050505 12025.25252525 12045.45454545\n",
            " 12065.65656566 12085.85858586 12106.06060606 12126.26262626\n",
            " 12146.46464646 12166.66666667 12186.86868687 12207.07070707\n",
            " 12227.27272727 12247.47474747 12267.67676768 12287.87878788\n",
            " 12308.08080808 12328.28282828 12348.48484848 12368.68686869\n",
            " 12388.88888889 12409.09090909 12429.29292929 12449.49494949\n",
            " 12469.6969697  12489.8989899  12510.1010101  12530.3030303\n",
            " 12550.50505051 12570.70707071 12590.90909091 12611.11111111\n",
            " 12631.31313131 12651.51515152 12671.71717172 12691.91919192\n",
            " 12712.12121212 12732.32323232 12752.52525253 12772.72727273\n",
            " 12792.92929293 12813.13131313 12833.33333333 12853.53535354\n",
            " 12873.73737374 12893.93939394 12914.14141414 12934.34343434\n",
            " 12954.54545455 12974.74747475 12994.94949495 13015.15151515\n",
            " 13035.35353535 13055.55555556 13075.75757576 13095.95959596\n",
            " 13116.16161616 13136.36363636 13156.56565657 13176.76767677\n",
            " 13196.96969697 13217.17171717 13237.37373737 13257.57575758\n",
            " 13277.77777778 13297.97979798 13318.18181818 13338.38383838\n",
            " 13358.58585859 13378.78787879 13398.98989899 13419.19191919\n",
            " 13439.39393939 13459.5959596  13479.7979798  13500.        ]\n"
          ]
        }
      ],
      "source": [
        "C = np.linspace(11500,13500,num=100)\n",
        "print(C)"
      ]
    },
    {
      "cell_type": "code",
      "execution_count": null,
      "metadata": {
        "id": "vIfFV5-cmrMe",
        "outputId": "56da2930-b87f-4cf6-ecd0-8e20a46629f4"
      },
      "outputs": [
        {
          "name": "stdout",
          "output_type": "stream",
          "text": [
            "0.5472222222222223 11500.0\n"
          ]
        }
      ],
      "source": [
        "max_score_rbf = 0\n",
        "score_rbf = np.array([])\n",
        "best_model_rbf = 0\n",
        "for i in C:\n",
        "    svc_rbf = SVC(kernel='rbf',C=i)\n",
        "    svc_rbf.fit(x_train,y_train)\n",
        "    pred = svc_rbf.predict(x_test)\n",
        "    sco_rbf = accuracy_score(y_test,pred)\n",
        "    score_rbf = np.append(score_rbf,sco_rbf)\n",
        "    if sco_rbf > max_score_rbf:\n",
        "        print(sco_rbf,i)\n",
        "        max_score_rbf = sco_rbf\n",
        "        best_model_rbf = svc_rbf"
      ]
    },
    {
      "cell_type": "markdown",
      "metadata": {
        "id": "Quva6AsfmrMf"
      },
      "source": [
        "## Parte 2: Análisis de Resultados\n",
        "\n",
        "Ahora, basado en los resultados anteriores, obtenga una evaluación final del mejor modelo y concluya sobre la pertinencia del mismo dentro del contexto de este problema."
      ]
    },
    {
      "cell_type": "code",
      "execution_count": 10,
      "metadata": {
        "id": "jITCWbycmrMf",
        "outputId": "9772c6b9-b892-4199-dfbb-cd67f0b18f8f"
      },
      "outputs": [
        {
          "name": "stdout",
          "output_type": "stream",
          "text": [
            "Best classifier: 0.5444444444444444\n",
            "Reporte de Clasificación:\n",
            "              precision    recall  f1-score   support\n",
            "\n",
            "           0       0.54      0.73      0.62       182\n",
            "           1       0.56      0.36      0.44       178\n",
            "\n",
            "    accuracy                           0.54       360\n",
            "   macro avg       0.55      0.54      0.53       360\n",
            "weighted avg       0.55      0.54      0.53       360\n",
            "\n"
          ]
        }
      ],
      "source": [
        "from sklearn.metrics import accuracy_score,classification_report\n",
        "\n",
        "best_classifier = SVC(C=11500, kernel='rbf') # Parámetros del clasificador #\n",
        "best_classifier.fit(x_train, y_train)    \n",
        "\n",
        "y_pred_rf = best_classifier.predict(x_val)\n",
        "\n",
        "# Evaluación\n",
        "print(f\"Best classifier: {accuracy_score(y_val,y_pred_rf)}\")\n",
        "print(f\"Reporte de Clasificación:\\n{classification_report(y_val, y_pred_rf)}\")"
      ]
    },
    {
      "cell_type": "markdown",
      "metadata": {
        "id": "E3m4u9Q4mrMf"
      },
      "source": [
        "## Conclusiones"
      ]
    },
    {
      "cell_type": "markdown",
      "metadata": {
        "id": "BX2ZTAM_mrMf"
      },
      "source": [
        "El mejor modelo que se escogió fue el kernel con la función Base Radial dado que el score fue el mayor. Los scores obtenidos fueron: \n",
        "\n",
        "* Kernel lineal: 0.4861\n",
        "\n",
        "* Kernel Polinomial (grado 2): 0.5333\n",
        "\n",
        "* Kernel Base Radial: 0.5444\n",
        "\n",
        "* Kernel Sigmoide: 0.4972\n",
        "\n",
        "Con base en lo anterior se realiza otra itereación de Grid Search alrededor del mejor punto encontrado (C). De esta manera, el valor final obtenido es 11500. Sobre este se realizan la validación respectiva. Se puede observar que tiene mayor precisión en la clase 1 que en la clase 0. A pesar de que se validó en el mejor modelo, no se presento una precisión tan alta. "
      ]
    },
    {
      "cell_type": "markdown",
      "metadata": {},
      "source": [
        "### Other tests"
      ]
    },
    {
      "cell_type": "code",
      "execution_count": 22,
      "metadata": {},
      "outputs": [],
      "source": [
        "import matplotlib.pyplot as plt\n",
        "\n",
        "gridSearch_gamma = np.logspace(-5,1,num=10)\n",
        "accuracy_array = np.array([])\n",
        "for i in gridSearch_gamma:\n",
        "    best_classifier = SVC(C=11500, kernel='rbf',gamma=i) # Parámetros del clasificador #\n",
        "    best_classifier.fit(x_train, y_train)    \n",
        "    y_pred_rf = best_classifier.predict(x_val)\n",
        "    accuracy_array = np.append(accuracy_array,accuracy_score(y_val,y_pred_rf))"
      ]
    },
    {
      "cell_type": "code",
      "execution_count": 26,
      "metadata": {},
      "outputs": [
        {
          "data": {
            "image/png": "[encoded data removed]",
            "text/plain": [
              "<Figure size 432x288 with 1 Axes>"
            ]
          },
          "metadata": {
            "needs_background": "light"
          },
          "output_type": "display_data"
        }
      ],
      "source": [
        "plt.plot(gridSearch_gamma,accuracy_array)\n",
        "plt.xscale('log')\n",
        "plt.title('GridSearch - gamma (SVC_RBF)')\n",
        "plt.ylabel('Accuracy')\n",
        "plt.xlabel('Gamma value')\n",
        "plt.show()"
      ]
    },
    {
      "cell_type": "markdown",
      "metadata": {},
      "source": [
        "Se decidio seguir sintonizando los hiperparametros con el proposito de obtener un mejor modelo, en este caso aprovechando que se utilizo un Kernel RBF, se decidio variar el parametro gamma, el cual nos permite modificar la geometria (Aumentar o disminuir las curvas de la region de decision), con esto se obtuvo un mejor rendimiento del mejor modelo, llegando asintoticamente a un accuracy de 0.808333."
      ]
    }
  ],
  "metadata": {
    "colab": {
      "name": "ML_hw5.ipynb",
      "provenance": []
    },
    "kernelspec": {
      "display_name": "Python 3",
      "language": "python",
      "name": "python3"
    },
    "language_info": {
      "codemirror_mode": {
        "name": "ipython",
        "version": 3
      },
      "file_extension": ".py",
      "mimetype": "text/x-python",
      "name": "python",
      "nbconvert_exporter": "python",
      "pygments_lexer": "ipython3",
      "version": "3.9.7"
    }
  },
  "nbformat": 4,
  "nbformat_minor": 0
}

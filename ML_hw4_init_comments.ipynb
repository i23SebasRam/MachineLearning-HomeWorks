{
  "nbformat": 4,
  "nbformat_minor": 0,
  "metadata": {
    "colab": {
      "name": "ML_hw4_init_comments.ipynb",
      "provenance": []
    },
    "interpreter": {
      "hash": "266be0e0c8276b7bfe251c2d8f1e576c20f55c449c1d3ba8e4d1594fa70e9632"
    },
    "kernelspec": {
      "display_name": "Python 3.9.7 64-bit ('ML2': conda)",
      "name": "python3"
    },
    "language_info": {
      "codemirror_mode": {
        "name": "ipython",
        "version": 3
      },
      "file_extension": ".py",
      "mimetype": "text/x-python",
      "name": "python",
      "nbconvert_exporter": "python",
      "pygments_lexer": "ipython3",
      "version": "3.9.7"
    }
  },
  "cells": [
    {
      "cell_type": "markdown",
      "metadata": {
        "id": "6YZkX4Pq7I1_"
      },
      "source": [
        "# Predicción de Potabilidad del Agua\n",
        "\n",
        "En esta ocasión se busca desarrollar un proceso de GridSearch con el fin de buscar los mejores hiperparámetros de distintos modelos dentro de un rango de valores definidos por nosotros mismos. Igualmente, se busca que usted aplique y comprenda los siguientes modelos:\n",
        "\n",
        "- Árboles de decisión\n",
        "- Bosques de decisión\n",
        "- AdaBoost\n",
        "- XGBoost\n",
        "- Bagging\n",
        "\n",
        "Se sugiere fuertemente leer la documentación entregada en los artículos de los links.\n",
        "\n",
        "Debe completar las celdas vacías y seguir las instrucciones anotadas en el cuaderno. La fecha límite de entrega es el día **8 de noviembre** y se realizará a través de Bloque Neón."
      ]
    },
    {
      "cell_type": "code",
      "metadata": {
        "id": "qFRZAfYh7I2G"
      },
      "source": [
        "import pandas as pd\n",
        "import numpy as np\n",
        "import sklearn\n",
        "from sklearn.preprocessing import OrdinalEncoder, MinMaxScaler, RobustScaler\n",
        "import matplotlib.pyplot as plt\n",
        "import random"
      ],
      "execution_count": null,
      "outputs": []
    },
    {
      "cell_type": "markdown",
      "metadata": {
        "id": "b54KkFgQ7I2I"
      },
      "source": [
        "Lectura de CSV y borrado de filas incompletas."
      ]
    },
    {
      "cell_type": "code",
      "metadata": {
        "colab": {
          "base_uri": "https://localhost:8080/",
          "height": 224
        },
        "id": "zhh2LUR87I2I",
        "outputId": "d6c57dae-9a1f-4865-c656-f9717d672fc3"
      },
      "source": [
        "#Colab\n",
        "#df = pd.read_csv('water_potability.csv').dropna()\n",
        "path = \"C:/Users/SEBASTIAN/OneDrive - Universidad de los Andes/OctavoSemestre/Machine Learning/Trabajos/ML_hw4/ML_hw4/waterPotability/water_potability.csv\"\n",
        "df = pd.read_csv(path).dropna()\n",
        "df.head()"
      ],
      "execution_count": null,
      "outputs": [
        {
          "data": {
            "text/html": [
              "<div>\n",
              "<style scoped>\n",
              "    .dataframe tbody tr th:only-of-type {\n",
              "        vertical-align: middle;\n",
              "    }\n",
              "\n",
              "    .dataframe tbody tr th {\n",
              "        vertical-align: top;\n",
              "    }\n",
              "\n",
              "    .dataframe thead th {\n",
              "        text-align: right;\n",
              "    }\n",
              "</style>\n",
              "<table border=\"1\" class=\"dataframe\">\n",
              "  <thead>\n",
              "    <tr style=\"text-align: right;\">\n",
              "      <th></th>\n",
              "      <th>ph</th>\n",
              "      <th>Hardness</th>\n",
              "      <th>Solids</th>\n",
              "      <th>Chloramines</th>\n",
              "      <th>Sulfate</th>\n",
              "      <th>Conductivity</th>\n",
              "      <th>Organic_carbon</th>\n",
              "      <th>Trihalomethanes</th>\n",
              "      <th>Turbidity</th>\n",
              "      <th>Potability</th>\n",
              "    </tr>\n",
              "  </thead>\n",
              "  <tbody>\n",
              "    <tr>\n",
              "      <th>3</th>\n",
              "      <td>8.316766</td>\n",
              "      <td>214.373394</td>\n",
              "      <td>22018.417441</td>\n",
              "      <td>8.059332</td>\n",
              "      <td>356.886136</td>\n",
              "      <td>363.266516</td>\n",
              "      <td>18.436524</td>\n",
              "      <td>100.341674</td>\n",
              "      <td>4.628771</td>\n",
              "      <td>0</td>\n",
              "    </tr>\n",
              "    <tr>\n",
              "      <th>4</th>\n",
              "      <td>9.092223</td>\n",
              "      <td>181.101509</td>\n",
              "      <td>17978.986339</td>\n",
              "      <td>6.546600</td>\n",
              "      <td>310.135738</td>\n",
              "      <td>398.410813</td>\n",
              "      <td>11.558279</td>\n",
              "      <td>31.997993</td>\n",
              "      <td>4.075075</td>\n",
              "      <td>0</td>\n",
              "    </tr>\n",
              "    <tr>\n",
              "      <th>5</th>\n",
              "      <td>5.584087</td>\n",
              "      <td>188.313324</td>\n",
              "      <td>28748.687739</td>\n",
              "      <td>7.544869</td>\n",
              "      <td>326.678363</td>\n",
              "      <td>280.467916</td>\n",
              "      <td>8.399735</td>\n",
              "      <td>54.917862</td>\n",
              "      <td>2.559708</td>\n",
              "      <td>0</td>\n",
              "    </tr>\n",
              "    <tr>\n",
              "      <th>6</th>\n",
              "      <td>10.223862</td>\n",
              "      <td>248.071735</td>\n",
              "      <td>28749.716544</td>\n",
              "      <td>7.513408</td>\n",
              "      <td>393.663396</td>\n",
              "      <td>283.651634</td>\n",
              "      <td>13.789695</td>\n",
              "      <td>84.603556</td>\n",
              "      <td>2.672989</td>\n",
              "      <td>0</td>\n",
              "    </tr>\n",
              "    <tr>\n",
              "      <th>7</th>\n",
              "      <td>8.635849</td>\n",
              "      <td>203.361523</td>\n",
              "      <td>13672.091764</td>\n",
              "      <td>4.563009</td>\n",
              "      <td>303.309771</td>\n",
              "      <td>474.607645</td>\n",
              "      <td>12.363817</td>\n",
              "      <td>62.798309</td>\n",
              "      <td>4.401425</td>\n",
              "      <td>0</td>\n",
              "    </tr>\n",
              "  </tbody>\n",
              "</table>\n",
              "</div>"
            ],
            "text/plain": [
              "          ph    Hardness        Solids  Chloramines     Sulfate  Conductivity  \\\n",
              "3   8.316766  214.373394  22018.417441     8.059332  356.886136    363.266516   \n",
              "4   9.092223  181.101509  17978.986339     6.546600  310.135738    398.410813   \n",
              "5   5.584087  188.313324  28748.687739     7.544869  326.678363    280.467916   \n",
              "6  10.223862  248.071735  28749.716544     7.513408  393.663396    283.651634   \n",
              "7   8.635849  203.361523  13672.091764     4.563009  303.309771    474.607645   \n",
              "\n",
              "   Organic_carbon  Trihalomethanes  Turbidity  Potability  \n",
              "3       18.436524       100.341674   4.628771           0  \n",
              "4       11.558279        31.997993   4.075075           0  \n",
              "5        8.399735        54.917862   2.559708           0  \n",
              "6       13.789695        84.603556   2.672989           0  \n",
              "7       12.363817        62.798309   4.401425           0  "
            ]
          },
          "execution_count": 3,
          "metadata": {},
          "output_type": "execute_result"
        }
      ]
    },
    {
      "cell_type": "markdown",
      "metadata": {
        "id": "e1OBnylO7I2J"
      },
      "source": [
        "Gráfica de proporción de clases. A continuación puede observar una desproporción entre los datos, por lo que se está lidiando con un problema desbalanceado."
      ]
    },
    {
      "cell_type": "code",
      "metadata": {
        "colab": {
          "base_uri": "https://localhost:8080/",
          "height": 265
        },
        "id": "oP_fPHA87I2J",
        "outputId": "93076e67-2c32-4196-a187-98e3cb5c9557"
      },
      "source": [
        "df['Potability'].value_counts().plot(kind='pie')"
      ],
      "execution_count": null,
      "outputs": [
        {
          "data": {
            "text/plain": [
              "<AxesSubplot:ylabel='Potability'>"
            ]
          },
          "execution_count": 4,
          "metadata": {},
          "output_type": "execute_result"
        },
        {
          "data": {
            "image/png": "[encoded data removed]",
            "text/plain": [
              "<Figure size 432x288 with 1 Axes>"
            ]
          },
          "metadata": {},
          "output_type": "display_data"
        }
      ]
    },
    {
      "cell_type": "markdown",
      "metadata": {
        "id": "X-DmHxq97I2K"
      },
      "source": [
        "### Manejo de Datos Desbalanceados: Remuestreo\n",
        "\n",
        "Utilizaremos la función `resample` de SciKit-Learn para remuestrear algunas muestras entre la clase '1'."
      ]
    },
    {
      "cell_type": "code",
      "metadata": {
        "id": "ejVkhOu87I2L"
      },
      "source": [
        "from sklearn.utils import resample\n",
        "from sklearn.utils import shuffle\n",
        "\n",
        "zero  = df[df['Potability']==0]   # clase 0\n",
        "one = df[df['Potability']==1]  # clase 1\n",
        "\n",
        "df_minority_upsampled = resample(one, replace = True, n_samples = 1200)\n",
        "df = pd.concat([zero, df_minority_upsampled])\n",
        "\n",
        "df = shuffle(df) # shuffling so that there is particular sequence"
      ],
      "execution_count": null,
      "outputs": []
    },
    {
      "cell_type": "code",
      "metadata": {
        "colab": {
          "base_uri": "https://localhost:8080/",
          "height": 265
        },
        "id": "ssEgFNjm7I2M",
        "outputId": "b7b970cc-f7ea-40ed-c1e2-8fbe762874a9"
      },
      "source": [
        "df['Potability'].value_counts().plot(kind='pie')"
      ],
      "execution_count": null,
      "outputs": [
        {
          "data": {
            "text/plain": [
              "<AxesSubplot:ylabel='Potability'>"
            ]
          },
          "execution_count": 6,
          "metadata": {},
          "output_type": "execute_result"
        },
        {
          "data": {
            "image/png": "[encoded data removed]",
            "text/plain": [
              "<Figure size 432x288 with 1 Axes>"
            ]
          },
          "metadata": {},
          "output_type": "display_data"
        }
      ]
    },
    {
      "cell_type": "code",
      "metadata": {
        "colab": {
          "base_uri": "https://localhost:8080/"
        },
        "id": "yf78FBD37I2N",
        "outputId": "b90d249f-b93c-4dc3-9ae1-ae02b4aeae1a"
      },
      "source": [
        "X = df.drop(['Potability'], axis = 1)\n",
        "y = df['Potability']\n",
        "print(X)\n",
        "print(y)"
      ],
      "execution_count": null,
      "outputs": [
        {
          "name": "stdout",
          "output_type": "stream",
          "text": [
            "             ph    Hardness        Solids  Chloramines     Sulfate  \\\n",
            "769    5.729303  162.857585  34573.678786     5.654856  415.287072   \n",
            "2749   5.913133  184.393156  40847.760146     7.041828  331.959964   \n",
            "3130   8.140344  153.748170  50793.898917     7.843498  306.218950   \n",
            "1845   8.176080  201.553701  21856.988628     5.241047  320.260120   \n",
            "2349   5.495976  150.534519  18333.632664     7.471728  416.888527   \n",
            "...         ...         ...           ...          ...         ...   \n",
            "1655   7.260904  189.077962  21391.162544     6.576866  356.622222   \n",
            "309   10.041028  113.831112  16266.434445     7.939074  363.866890   \n",
            "686    8.907987  202.461211  33653.761963     5.431879  330.827133   \n",
            "2448   6.486153  224.809456  26807.119512     3.267984  319.074358   \n",
            "2475   4.991397  141.622395  44499.728710     8.260928  335.509830   \n",
            "\n",
            "      Conductivity  Organic_carbon  Trihalomethanes  Turbidity  \n",
            "769     297.631365       13.990842        76.744677   3.556395  \n",
            "2749    563.409970       21.917377        58.839203   3.900211  \n",
            "3130    423.455906       14.322019        65.076610   4.362792  \n",
            "1845    464.803330       15.627641        61.654744   4.112322  \n",
            "2349    300.358972       12.300193        55.706781   4.901038  \n",
            "...            ...             ...              ...        ...  \n",
            "1655    390.285266       14.391606        81.082456   4.383823  \n",
            "309     557.486061       13.195341        75.233221   3.807563  \n",
            "686     426.186565       18.759902        79.370621   4.641259  \n",
            "2448    382.879844       10.665030        63.727693   3.246794  \n",
            "2475    534.711455       15.350873        62.896558   3.926599  \n",
            "\n",
            "[2400 rows x 9 columns]\n",
            "769     1\n",
            "2749    1\n",
            "3130    1\n",
            "1845    0\n",
            "2349    1\n",
            "       ..\n",
            "1655    0\n",
            "309     1\n",
            "686     1\n",
            "2448    1\n",
            "2475    0\n",
            "Name: Potability, Length: 2400, dtype: int64\n"
          ]
        }
      ]
    },
    {
      "cell_type": "markdown",
      "metadata": {
        "id": "kMrHKqVd7I2O"
      },
      "source": [
        "## Parte 1: Prueba de Modelos y GridSearch/RandomizedSearch\n",
        "\n",
        "A continuación, realizaremos un procedimiento de búsqueda del mejor modelo y sus correspondientes hiperparámetros. Estos procedimientos se conocen como GridSearch/RandomizedSearch. Puede encontrar más información en los siguientes enlaces:\n",
        "\n",
        "- [GridSearch SciKit-Learn](https://scikit-learn.org/stable/modules/generated/sklearn.model_selection.GridSearchCV.html)\n",
        "- [RandomizedSearch SciKit-Learn](https://scikit-learn.org/stable/modules/generated/sklearn.model_selection.RandomizedSearchCV.html)\n",
        "- [GridSearchCV](https://www.mygreatlearning.com/blog/gridsearchcv/)\n",
        "- [Medium Article: GridSearch & RandomizedSearch](https://towardsdatascience.com/machine-learning-gridsearchcv-randomizedsearchcv-d36b89231b10)"
      ]
    },
    {
      "cell_type": "code",
      "metadata": {
        "id": "Mo86zvCO7I2P"
      },
      "source": [
        "from sklearn.linear_model import LogisticRegression\n",
        "from sklearn.tree import DecisionTreeClassifier\n",
        "from sklearn.metrics import accuracy_score\n",
        "from sklearn.neural_network import MLPClassifier\n",
        "from sklearn.ensemble import RandomForestClassifier\n",
        "from sklearn.linear_model import LogisticRegression\n",
        "from sklearn.neighbors import KNeighborsClassifier\n",
        "from sklearn.ensemble import AdaBoostClassifier\n",
        "from sklearn.ensemble import BaggingClassifier\n",
        "from xgboost import XGBClassifier\n",
        "\n",
        "from sklearn.model_selection import train_test_split\n",
        "from sklearn.model_selection import RandomizedSearchCV, GridSearchCV"
      ],
      "execution_count": null,
      "outputs": []
    },
    {
      "cell_type": "markdown",
      "metadata": {
        "id": "2XZ7o2Nf7I2Q"
      },
      "source": [
        "Partición de datos de prueba/entrenamiento."
      ]
    },
    {
      "cell_type": "code",
      "metadata": {
        "id": "O1b5rD5B7I2Q"
      },
      "source": [
        "from sklearn.model_selection import train_test_split\n",
        "\n",
        "X_train, X_test, y_train, y_test = train_test_split(X,y,test_size=0.2,\n",
        "                                                    random_state = 22)\n",
        "# Utilice la función train_test_split #"
      ],
      "execution_count": null,
      "outputs": []
    },
    {
      "cell_type": "markdown",
      "metadata": {
        "id": "HEK8Q-cX7I2R"
      },
      "source": [
        "## Parte 1A\n",
        "\n",
        "### Definición de Parámetros de GridSearch/RandomizedSearch\n",
        "\n",
        "Basado en la documentación de las funciones, defina los siguientes parámetros para los casos:\n",
        "\n",
        "- GridSearch:\n",
        "    - Árbol de Decisión (GridSearch):\n",
        "        - 'criterion': 'gini' y 'entropy'\n",
        "        - 'max_depth': vector de valores enteros entre 1 y 50\n",
        "        - 'min_samples_leaf': 10 valores seleccionados por usted entre 1 y 100\n",
        "    \n",
        "    - Random Forest (GridSearch):\n",
        "        - 'n_estimators': 4 valores seleccionados por usted entre 100 y 500\n",
        "        - 'min_samples_leaf': 3 valores seleccionados por usted entre 2 y 30\n",
        "        \n",
        "    - AdaBoost (GridSearch):\n",
        "        - 'n_estimators': 6 valores seleccionados por usted entre 50 y 600\n",
        "        - 'learning_rate': 5 valores de tasas de aprendizaje entre 0 y 1\n",
        "        \n",
        "    - XGBoost (RandomizedSearch):\n",
        "        - 'n_estimators': 8 valores seleccionados por usted entre 50 y 600\n",
        "        - 'learning_rate': 5 valores de tasas de aprendizaje entre 0 y 1\n",
        "    "
      ]
    },
    {
      "cell_type": "code",
      "metadata": {
        "id": "JWIWYfzx4NGb"
      },
      "source": [
        "\n",
        "# Búsqueda de Hiperparámetros\n",
        "\n",
        "lr = LogisticRegression(random_state=42)\n",
        "\n",
        "dt = DecisionTreeClassifier()\n",
        "\n",
        "rf = RandomForestClassifier()\n",
        "\n",
        "ada = AdaBoostClassifier()\n",
        "\n",
        "xgb = XGBClassifier(eval_metric = 'logloss', use_label_encoder=False)\n",
        "\n",
        "#Árbol de Decisión\n",
        "para_dt = {'criterion':[\"gini\",\"entropy\"],'max_depth':[n for n in range(1,51,1)]\n",
        "           ,'min_samples_leaf':[18,27,54,63,79,11,99,6,33,41]}\n",
        "grid_dt = GridSearchCV(dt, param_grid=para_dt, cv=5)\n",
        "\n",
        "#Random Forest\n",
        "#n_estimators: número de árboles en el bosque.\n",
        "params_rf = {'n_estimators':[498,300,120,348],'min_samples_leaf':[9,26,21]}\n",
        "grid_rf = GridSearchCV(rf, param_grid=params_rf, cv=5)\n",
        "\n",
        "#AdaBoost\n",
        "params_ada = {'n_estimators':[51,90,300,450,575,599],'learning_rate':[random.random() for _ in range(5)]}\n",
        "grid_ada =  GridSearchCV(ada, param_grid=params_ada, cv=5)\n",
        "\n",
        "#XGBoost\n",
        "params_xgb = {'n_estimators':[51,90,230,300,350,450,575,599],'learning_rate':[random.random() for _ in range(5)]}\n",
        "rs_xgb =  RandomizedSearchCV(xgb, param_distributions=params_xgb, cv=5)"
      ],
      "execution_count": null,
      "outputs": []
    },
    {
      "cell_type": "markdown",
      "metadata": {
        "id": "S4ei9yi57I2S"
      },
      "source": [
        "### Búsqueda de Hiperparámetros\n",
        "\n",
        "A continuación se debe realizar el proceso de GridSearch. Esta operación puede tardar."
      ]
    },
    {
      "cell_type": "code",
      "metadata": {
        "colab": {
          "base_uri": "https://localhost:8080/",
          "height": 1000
        },
        "id": "8HZj_RA47I2S",
        "outputId": "cc861be2-6155-4877-e770-fa8d2936c741"
      },
      "source": [
        "grid_dt.fit(X_train, y_train)\n",
        "grid_rf.fit(X_train, y_train)\n",
        "grid_ada.fit(X_train, y_train)\n",
        "rs_xgb.fit(X_train, y_train)"
      ],
      "execution_count": null,
      "outputs": [
        {
          "data": {
            "text/plain": [
              "RandomizedSearchCV(cv=5,\n",
              "                   estimator=XGBClassifier(base_score=None, booster=None,\n",
              "                                           colsample_bylevel=None,\n",
              "                                           colsample_bynode=None,\n",
              "                                           colsample_bytree=None,\n",
              "                                           enable_categorical=False,\n",
              "                                           eval_metric='logloss', gamma=None,\n",
              "                                           gpu_id=None, importance_type=None,\n",
              "                                           interaction_constraints=None,\n",
              "                                           learning_rate=None,\n",
              "                                           max_delta_step=None, max_depth=None,\n",
              "                                           min_child_weight=None, missing=na...\n",
              "                                           predictor=None, random_state=None,\n",
              "                                           reg_alpha=None, reg_lambda=None,\n",
              "                                           scale_pos_weight=None,\n",
              "                                           subsample=None, tree_method=None,\n",
              "                                           use_label_encoder=False,\n",
              "                                           validate_parameters=None,\n",
              "                                           verbosity=None),\n",
              "                   param_distributions={'learning_rate': [0.3138785140483171,\n",
              "                                                          0.6919639613263628,\n",
              "                                                          0.21133313001287923,\n",
              "                                                          0.5676506404650635,\n",
              "                                                          0.383202709327476],\n",
              "                                        'n_estimators': [51, 90, 230, 300, 350,\n",
              "                                                         450, 575, 599]})"
            ]
          },
          "execution_count": 23,
          "metadata": {},
          "output_type": "execute_result"
        }
      ]
    },
    {
      "cell_type": "code",
      "metadata": {
        "id": "1knUWGij7I2T",
        "outputId": "a4728b88-d4d9-4fac-e478-82ad7c44e9ec"
      },
      "source": [
        "print(\"Mejores parámetros Árbol de Decisión:\", grid_dt.best_params_)\n",
        "print(\"Mejores parámetros Random Forest:\", grid_rf.best_params_)\n",
        "print(\"Mejores parámetros AdaBoost:\", grid_ada.best_params_)\n",
        "print(\"Mejores parámetros XGBoost:\", rs_xgb.best_params_)"
      ],
      "execution_count": null,
      "outputs": [
        {
          "name": "stdout",
          "output_type": "stream",
          "text": [
            "Mejores parámetros Árbol de Decisión: {'criterion': 'entropy', 'max_depth': 22, 'min_samples_leaf': 6}\n",
            "Mejores parámetros Random Forest: {'min_samples_leaf': 9, 'n_estimators': 498}\n",
            "Mejores parámetros AdaBoost: {'learning_rate': 0.9657805284631268, 'n_estimators': 599}\n",
            "Mejores parámetros XGBoost: {'n_estimators': 230, 'learning_rate': 0.3138785140483171}\n"
          ]
        }
      ]
    },
    {
      "cell_type": "code",
      "metadata": {
        "id": "Gq9puJwe7I2T",
        "outputId": "17d34cf2-2432-4ade-8da6-964dd9c8c03e"
      },
      "source": [
        "grid_dt.best_params_"
      ],
      "execution_count": null,
      "outputs": [
        {
          "data": {
            "text/plain": [
              "{'criterion': 'entropy', 'max_depth': 22, 'min_samples_leaf': 6}"
            ]
          },
          "execution_count": 25,
          "metadata": {},
          "output_type": "execute_result"
        }
      ]
    },
    {
      "cell_type": "markdown",
      "metadata": {
        "id": "fJ67oUTJ7I2T"
      },
      "source": [
        "## Parte 1B\n",
        "\n",
        "### Boosting & Bagging\n",
        "\n",
        "Para este caso utilice 100 clasificadores de Árbol de Decisión con los mejores parámetros obtenidos a partir del GridSearch realizado anteriormente."
      ]
    },
    {
      "cell_type": "code",
      "metadata": {
        "id": "798ani5D7I2U",
        "outputId": "c4062723-6a12-421e-8416-1a2479d82b07"
      },
      "source": [
        "# Boosting & Bagging\n",
        "bagging = BaggingClassifier(base_estimator=DecisionTreeClassifier(criterion = 'entropy',max_depth=22,min_samples_leaf=6),n_estimators=100)\n",
        "bagging.fit(X_train, y_train)"
      ],
      "execution_count": null,
      "outputs": [
        {
          "data": {
            "text/plain": [
              "BaggingClassifier(base_estimator=DecisionTreeClassifier(criterion='entropy',\n",
              "                                                        max_depth=22,\n",
              "                                                        min_samples_leaf=6),\n",
              "                  n_estimators=100)"
            ]
          },
          "execution_count": 28,
          "metadata": {},
          "output_type": "execute_result"
        }
      ]
    },
    {
      "cell_type": "markdown",
      "metadata": {
        "id": "1qYmtqEO7I2U"
      },
      "source": [
        "### Métricas de Evaluación\n",
        "\n",
        "A continuación podrá observar un resumen con las precisiones de cada modelo y posteriormente su representación gráfica."
      ]
    },
    {
      "cell_type": "code",
      "metadata": {
        "id": "67Lv_z0M7I2U"
      },
      "source": [
        "classifiers = [('Regresión Logística', lr),\n",
        "               ('Árbol de Decisión', dt), ('Random Forest', rf), ('AdaBoost', ada),\n",
        "               ('Bagging', bagging), ('XGBoost', xgb)]"
      ],
      "execution_count": null,
      "outputs": []
    },
    {
      "cell_type": "code",
      "metadata": {
        "id": "YPSjW4dR7I2V",
        "outputId": "b9e7f049-d92b-4f99-a6ad-412dac804474"
      },
      "source": [
        "from sklearn.metrics import accuracy_score\n",
        "\n",
        "classifier_names = []\n",
        "classifier_acc = []\n",
        "for classifier_name, classifier in classifiers:\n",
        " \n",
        "    # Ajuste para datos de entrenamiento\n",
        "    classifier.fit(X_train, y_train)    \n",
        "\n",
        "    # Predicciones\n",
        "    y_pred = classifier.predict(X_test)\n",
        "    accuracy = accuracy_score(y_test,y_pred)\n",
        "\n",
        "    # Evaluación del clasificador\n",
        "    print('{:s} : {:.2f}'.format(classifier_name, accuracy))\n",
        "    classifier_names.append(classifier_name)\n",
        "    classifier_acc.append(accuracy)"
      ],
      "execution_count": null,
      "outputs": [
        {
          "name": "stdout",
          "output_type": "stream",
          "text": [
            "Regresión Logística : 0.53\n",
            "Árbol de Decisión : 0.79\n",
            "Random Forest : 0.86\n",
            "AdaBoost : 0.59\n",
            "Bagging : 0.81\n",
            "XGBoost : 0.84\n"
          ]
        }
      ]
    },
    {
      "cell_type": "markdown",
      "metadata": {
        "id": "2_KljFAu7I2V"
      },
      "source": [
        "# Resultados Preliminares"
      ]
    },
    {
      "cell_type": "code",
      "metadata": {
        "id": "KYYF3hS67I2V",
        "outputId": "4cf89738-ad6a-41ba-f0dd-b4cc05703d06"
      },
      "source": [
        "plt.figure(figsize=(15,5))\n",
        "plt.bar(classifier_names, classifier_acc, width=0.3)"
      ],
      "execution_count": null,
      "outputs": [
        {
          "data": {
            "text/plain": [
              "<BarContainer object of 6 artists>"
            ]
          },
          "execution_count": 31,
          "metadata": {},
          "output_type": "execute_result"
        },
        {
          "data": {
            "image/png": "[encoded data removed]",
            "text/plain": [
              "<Figure size 1080x360 with 1 Axes>"
            ]
          },
          "metadata": {
            "needs_background": "light"
          },
          "output_type": "display_data"
        }
      ]
    },
    {
      "cell_type": "markdown",
      "metadata": {
        "id": "si72f7g47I2V"
      },
      "source": [
        "## Parte 2\n",
        "\n",
        "### Análisis de Resultados\n",
        "\n",
        "Ahora usted utilizará la función `classication_report` para determinar qué clasificador se ajusta más a los resultados buscados, teniendo en cuenta el contexto del problema y la simplicidad de cada modelo.\n",
        "\n",
        "### Random Forest"
      ]
    },
    {
      "cell_type": "code",
      "metadata": {
        "id": "41lI8GaO7I2W",
        "outputId": "9eb1c7a9-76a9-432f-9732-5ce9bb4a79c0"
      },
      "source": [
        "from sklearn.metrics import classification_report\n",
        "\n",
        "y_pred_rf= rf.predict(X_test)\n",
        "print(classification_report(y_test, y_pred_rf))"
      ],
      "execution_count": null,
      "outputs": [
        {
          "name": "stdout",
          "output_type": "stream",
          "text": [
            "              precision    recall  f1-score   support\n",
            "\n",
            "           0       0.83      0.88      0.86       229\n",
            "           1       0.88      0.84      0.86       251\n",
            "\n",
            "    accuracy                           0.86       480\n",
            "   macro avg       0.86      0.86      0.86       480\n",
            "weighted avg       0.86      0.86      0.86       480\n",
            "\n"
          ]
        }
      ]
    },
    {
      "cell_type": "markdown",
      "metadata": {
        "id": "YDA2mHmt7I2W"
      },
      "source": [
        "### Árbol de Decisión"
      ]
    },
    {
      "cell_type": "code",
      "metadata": {
        "id": "4R9Hgoyw7I2W",
        "outputId": "43ade5a2-71e6-4588-db1d-c2aa0b153754"
      },
      "source": [
        "y_pred_dt = dt.predict(X_test)\n",
        "print(classification_report(y_test, y_pred_dt))"
      ],
      "execution_count": null,
      "outputs": [
        {
          "name": "stdout",
          "output_type": "stream",
          "text": [
            "              precision    recall  f1-score   support\n",
            "\n",
            "           0       0.79      0.75      0.77       229\n",
            "           1       0.78      0.82      0.80       251\n",
            "\n",
            "    accuracy                           0.79       480\n",
            "   macro avg       0.79      0.78      0.78       480\n",
            "weighted avg       0.79      0.79      0.78       480\n",
            "\n"
          ]
        }
      ]
    },
    {
      "cell_type": "markdown",
      "metadata": {
        "id": "rUYCtWg07I2W"
      },
      "source": [
        "### XGBoost"
      ]
    },
    {
      "cell_type": "code",
      "metadata": {
        "id": "Ui-SCvfK7I2W",
        "outputId": "945c41ae-5305-4e09-b2a6-9026fd984667"
      },
      "source": [
        "y_pred_xgb = xgb.predict(X_test)\n",
        "print(classification_report(y_test, y_pred_xgb))"
      ],
      "execution_count": null,
      "outputs": [
        {
          "name": "stdout",
          "output_type": "stream",
          "text": [
            "              precision    recall  f1-score   support\n",
            "\n",
            "           0       0.86      0.79      0.83       229\n",
            "           1       0.83      0.88      0.85       251\n",
            "\n",
            "    accuracy                           0.84       480\n",
            "   macro avg       0.84      0.84      0.84       480\n",
            "weighted avg       0.84      0.84      0.84       480\n",
            "\n"
          ]
        }
      ]
    },
    {
      "cell_type": "markdown",
      "metadata": {
        "id": "tpdK2Iu97I2X"
      },
      "source": [
        "### Bagging de Árboles de Decisión"
      ]
    },
    {
      "cell_type": "code",
      "metadata": {
        "id": "N5DzqFsw7I2X",
        "outputId": "8d8f9ab7-d1c7-432b-9367-b92c9f0d5451"
      },
      "source": [
        "y_pred_bagging = bagging.predict(X_test)\n",
        "print(classification_report(y_test, y_pred_bagging))"
      ],
      "execution_count": null,
      "outputs": [
        {
          "name": "stdout",
          "output_type": "stream",
          "text": [
            "              precision    recall  f1-score   support\n",
            "\n",
            "           0       0.80      0.80      0.80       229\n",
            "           1       0.82      0.81      0.81       251\n",
            "\n",
            "    accuracy                           0.81       480\n",
            "   macro avg       0.81      0.81      0.81       480\n",
            "weighted avg       0.81      0.81      0.81       480\n",
            "\n"
          ]
        }
      ]
    },
    {
      "cell_type": "markdown",
      "metadata": {
        "id": "a1_xnD-L7I2X"
      },
      "source": [
        "## Conclusiones\n",
        "\n",
        "Concluya a partir de los resultados obtenidos y la documentación leída sobre los métodos utilizados y las diferencias entre sus distintos rendimientos.\n",
        "\n",
        "\n",
        "Grid search es el proceso de realizar un ajuste de hiperparámetros para determinar los valores óptimos para un modelo dado. Con Grid Search, se probaron todas las combinaciones posibles de los parámetros de interés y se encontraron los mejores. Para esto, se pasaron valores predefinidos para hiperparámetros a la función GridSearchCV definiendo un diccionario en el que se mencionó un hiperparámetro en particular junto con los valores que puede tomar. Por otro lado, RandomizedSearchCV es útil cuando se tienen muchos parámetros para probar y el tiempo de entrenamiento es muy largo.\n",
        "\n",
        "Los mejores parámetros encontrados en el caso del árbol de decisión son el criterio: entropy, max_depth: 22 y min_samples_leaf: 6. Estos son los que usan para la parte 1B en bagging y boosting. En esta parte, al observar los resultados preliminares se observa que los modelos se organizan de la siguiente manera Random Forest, XGBoost, Bagging, Arbol de Decisión, Ada Boost y Regresión Logística. Siendo el primero el mayor valor obtenido en precisión con 86%. \n",
        "\n",
        "Para la segunda parte se observa que con las métricas desplegadas el mejor modelo continúa siendo Random Forest. El valor de F1 es el más cercano a 1. Recall al ser la relación entre verdaderos positivos y la suma de verdaderos positivos y falsos negativos también mantiene los valores por encima del 0.84. \n",
        "\n",
        "Un modelo Random Forest está formado por un conjunto (ensemble) de árboles de decisión individuales, cada uno entrenado con una muestra aleatoria extraída de los datos de entrenamiento originales mediante bootstrapping. Esto implica que cada árbol se entrena con unos datos ligeramente distintos. En cada árbol individual, las observaciones se van distribuyendo por bifurcaciones (nodos) generando la estructura del árbol hasta alcanzar un nodo terminal. La predicción de una nueva observación se obtiene agregando las predicciones de todos los árboles individuales que forman el modelo.\n"
      ]
    }
  ]
}
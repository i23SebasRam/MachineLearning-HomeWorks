{
 "cells": [
  {
   "cell_type": "markdown",
   "metadata": {},
   "source": [
    "# Predicción de Potabilidad del Agua\n",
    "\n",
    "En esta ocasión se busca desarrollar un proceso de búsqueda de hiperparámetros para un modelo de Máquina de Soporte Vectorial (SVM).\n",
    "\n",
    "Se sugiere fuertemente leer la documentación entregada en los artículos de los links.\n",
    "\n",
    "Debe completar las celdas vacías y seguir las instrucciones anotadas en el cuaderno. La fecha límite de entrega es el día **22 de noviembre** y se realizará a través de Bloque Neón."
   ]
  },
  {
   "cell_type": "code",
   "execution_count": 2,
   "metadata": {},
   "outputs": [],
   "source": [
    "import pandas as pd\n",
    "import numpy as np\n",
    "import sklearn\n",
    "from sklearn.preprocessing import OrdinalEncoder, MinMaxScaler, RobustScaler\n",
    "import matplotlib.pyplot as plt"
   ]
  },
  {
   "cell_type": "markdown",
   "metadata": {},
   "source": [
    "Lectura de CSV y borrado de filas incompletas."
   ]
  },
  {
   "cell_type": "code",
   "execution_count": 3,
   "metadata": {},
   "outputs": [
    {
     "data": {
      "text/html": [
       "<div>\n",
       "<style scoped>\n",
       "    .dataframe tbody tr th:only-of-type {\n",
       "        vertical-align: middle;\n",
       "    }\n",
       "\n",
       "    .dataframe tbody tr th {\n",
       "        vertical-align: top;\n",
       "    }\n",
       "\n",
       "    .dataframe thead th {\n",
       "        text-align: right;\n",
       "    }\n",
       "</style>\n",
       "<table border=\"1\" class=\"dataframe\">\n",
       "  <thead>\n",
       "    <tr style=\"text-align: right;\">\n",
       "      <th></th>\n",
       "      <th>ph</th>\n",
       "      <th>Hardness</th>\n",
       "      <th>Solids</th>\n",
       "      <th>Chloramines</th>\n",
       "      <th>Sulfate</th>\n",
       "      <th>Conductivity</th>\n",
       "      <th>Organic_carbon</th>\n",
       "      <th>Trihalomethanes</th>\n",
       "      <th>Turbidity</th>\n",
       "      <th>Potability</th>\n",
       "    </tr>\n",
       "  </thead>\n",
       "  <tbody>\n",
       "    <tr>\n",
       "      <th>3</th>\n",
       "      <td>8.316766</td>\n",
       "      <td>214.373394</td>\n",
       "      <td>22018.417441</td>\n",
       "      <td>8.059332</td>\n",
       "      <td>356.886136</td>\n",
       "      <td>363.266516</td>\n",
       "      <td>18.436524</td>\n",
       "      <td>100.341674</td>\n",
       "      <td>4.628771</td>\n",
       "      <td>0</td>\n",
       "    </tr>\n",
       "    <tr>\n",
       "      <th>4</th>\n",
       "      <td>9.092223</td>\n",
       "      <td>181.101509</td>\n",
       "      <td>17978.986339</td>\n",
       "      <td>6.546600</td>\n",
       "      <td>310.135738</td>\n",
       "      <td>398.410813</td>\n",
       "      <td>11.558279</td>\n",
       "      <td>31.997993</td>\n",
       "      <td>4.075075</td>\n",
       "      <td>0</td>\n",
       "    </tr>\n",
       "    <tr>\n",
       "      <th>5</th>\n",
       "      <td>5.584087</td>\n",
       "      <td>188.313324</td>\n",
       "      <td>28748.687739</td>\n",
       "      <td>7.544869</td>\n",
       "      <td>326.678363</td>\n",
       "      <td>280.467916</td>\n",
       "      <td>8.399735</td>\n",
       "      <td>54.917862</td>\n",
       "      <td>2.559708</td>\n",
       "      <td>0</td>\n",
       "    </tr>\n",
       "    <tr>\n",
       "      <th>6</th>\n",
       "      <td>10.223862</td>\n",
       "      <td>248.071735</td>\n",
       "      <td>28749.716544</td>\n",
       "      <td>7.513408</td>\n",
       "      <td>393.663396</td>\n",
       "      <td>283.651634</td>\n",
       "      <td>13.789695</td>\n",
       "      <td>84.603556</td>\n",
       "      <td>2.672989</td>\n",
       "      <td>0</td>\n",
       "    </tr>\n",
       "    <tr>\n",
       "      <th>7</th>\n",
       "      <td>8.635849</td>\n",
       "      <td>203.361523</td>\n",
       "      <td>13672.091764</td>\n",
       "      <td>4.563009</td>\n",
       "      <td>303.309771</td>\n",
       "      <td>474.607645</td>\n",
       "      <td>12.363817</td>\n",
       "      <td>62.798309</td>\n",
       "      <td>4.401425</td>\n",
       "      <td>0</td>\n",
       "    </tr>\n",
       "  </tbody>\n",
       "</table>\n",
       "</div>"
      ],
      "text/plain": [
       "          ph    Hardness        Solids  Chloramines     Sulfate  Conductivity  \\\n",
       "3   8.316766  214.373394  22018.417441     8.059332  356.886136    363.266516   \n",
       "4   9.092223  181.101509  17978.986339     6.546600  310.135738    398.410813   \n",
       "5   5.584087  188.313324  28748.687739     7.544869  326.678363    280.467916   \n",
       "6  10.223862  248.071735  28749.716544     7.513408  393.663396    283.651634   \n",
       "7   8.635849  203.361523  13672.091764     4.563009  303.309771    474.607645   \n",
       "\n",
       "   Organic_carbon  Trihalomethanes  Turbidity  Potability  \n",
       "3       18.436524       100.341674   4.628771           0  \n",
       "4       11.558279        31.997993   4.075075           0  \n",
       "5        8.399735        54.917862   2.559708           0  \n",
       "6       13.789695        84.603556   2.672989           0  \n",
       "7       12.363817        62.798309   4.401425           0  "
      ]
     },
     "execution_count": 3,
     "metadata": {},
     "output_type": "execute_result"
    }
   ],
   "source": [
    "#Para Collab.\n",
    "#df = pd.read_csv('waterPotability/water_potability.csv').dropna()\n",
    "main_path = \"C:/Users/SEBASTIAN/OneDrive - Universidad de los Andes/OctavoSemestre/Machine Learning/Trabajos/ML_hw5/waterPotability/water_potability.csv\"\n",
    "df = pd.read_csv(main_path)\n",
    "df = df.dropna()\n",
    "df.head()"
   ]
  },
  {
   "cell_type": "markdown",
   "metadata": {},
   "source": [
    "Gráfica de proporción de clases. A continuación puede observar una desproporción entre los datos, por lo que se está lidiando con un problema desbalanceado."
   ]
  },
  {
   "cell_type": "code",
   "execution_count": 4,
   "metadata": {},
   "outputs": [
    {
     "data": {
      "text/plain": [
       "<AxesSubplot:ylabel='Potability'>"
      ]
     },
     "execution_count": 4,
     "metadata": {},
     "output_type": "execute_result"
    },
    {
     "data": {
      "image/png": "[encoded data removed]",
      "text/plain": [
       "<Figure size 432x288 with 1 Axes>"
      ]
     },
     "metadata": {},
     "output_type": "display_data"
    }
   ],
   "source": [
    "df['Potability'].value_counts().plot(kind='pie')"
   ]
  },
  {
   "cell_type": "markdown",
   "metadata": {},
   "source": [
    "### Manejo de Datos Desbalanceados: Remuestreo"
   ]
  },
  {
   "cell_type": "code",
   "execution_count": 5,
   "metadata": {},
   "outputs": [],
   "source": [
    "from sklearn.utils import resample\n",
    "from sklearn.utils import shuffle\n",
    "\n",
    "zero  = df[df['Potability']==0]   # clase 0\n",
    "one = df[df['Potability']==1]  # clase 1\n",
    "\n",
    "df_minority_upsampled = resample(one, replace = True, n_samples = 1200)\n",
    "df = pd.concat([zero, df_minority_upsampled])\n",
    "\n",
    "df = shuffle(df) # shuffling so that there is particular sequence"
   ]
  },
  {
   "cell_type": "code",
   "execution_count": 6,
   "metadata": {},
   "outputs": [
    {
     "data": {
      "text/plain": [
       "<AxesSubplot:ylabel='Potability'>"
      ]
     },
     "execution_count": 6,
     "metadata": {},
     "output_type": "execute_result"
    },
    {
     "data": {
      "image/png": "[encoded data removed]",
      "text/plain": [
       "<Figure size 432x288 with 1 Axes>"
      ]
     },
     "metadata": {},
     "output_type": "display_data"
    }
   ],
   "source": [
    "df['Potability'].value_counts().plot(kind='pie')"
   ]
  },
  {
   "cell_type": "code",
   "execution_count": 7,
   "metadata": {},
   "outputs": [],
   "source": [
    "X = df.drop(['Potability'], axis = 1)\n",
    "y = df['Potability']"
   ]
  },
  {
   "cell_type": "code",
   "execution_count": 8,
   "metadata": {},
   "outputs": [],
   "source": [
    "from sklearn.svm import SVC\n",
    "\n",
    "from sklearn.metrics import accuracy_score\n",
    "from sklearn.model_selection import train_test_split"
   ]
  },
  {
   "cell_type": "markdown",
   "metadata": {},
   "source": [
    "### Separación en Conjuntos de Validación/Prueba\n",
    "\n",
    "Separe los datos (`X` y `y`) en conjuntos de:\n",
    "\n",
    "- Entrenamiento (70%)\n",
    "- Validación (15%)\n",
    "- Prueba (15%)\n",
    "\n",
    "Utilizando `train_test_split`."
   ]
  },
  {
   "cell_type": "code",
   "execution_count": 9,
   "metadata": {},
   "outputs": [],
   "source": [
    "x_train,x_test,y_train,y_test = train_test_split(X,y,test_size=0.30,random_state=1)\n",
    "x_val,x_test,y_val,y_test = train_test_split(x_test,y_test,test_size=0.5,random_state=3)"
   ]
  },
  {
   "cell_type": "code",
   "execution_count": 10,
   "metadata": {},
   "outputs": [
    {
     "name": "stdout",
     "output_type": "stream",
     "text": [
      "1680 360 360\n"
     ]
    }
   ],
   "source": [
    "print(len(x_train),len(x_val),len(x_test))"
   ]
  },
  {
   "cell_type": "markdown",
   "metadata": {},
   "source": [
    "## Parte 1: Evaluación de Modelos y GridSearch\n",
    "\n",
    "Como recordará, en la tarea anterior se realizó un proceso de GridSearch y RandomizedSearch. En esta ocasión, nuevamente implementará este procedimiento para encontrar los mejores hiperparámetros.\n",
    "\n",
    "Esta vez, se le solicita **desarrollar cada uno de los casos de forma manual y sin utilizar la librería SciKit-Learn (utilice ciclos `for`), obtener los mejores parámetros para los datos de VALIDACIÓN y graficar el histórico para los rangos del parámetro de regularización.**\n",
    "\n",
    "- Kernel: Lineal, Polinomial (utilizar grados 1, 2, 3 y 4), Función Base Radial (RBF), Sigmoide.\n",
    "- Parámetro de Regularización: Recorrido en escala logarítmica desde $10^{-3}$ hasta $10^{5}$.\n",
    "\n",
    "Utilice la función `SVC` de `sklearn.svm` para definir y ajustar cada modelo."
   ]
  },
  {
   "cell_type": "code",
   "execution_count": 11,
   "metadata": {},
   "outputs": [
    {
     "name": "stdout",
     "output_type": "stream",
     "text": [
      "[1.00000000e-03 4.64158883e-03 2.15443469e-02 1.00000000e-01\n",
      " 4.64158883e-01 2.15443469e+00 1.00000000e+01 4.64158883e+01\n",
      " 2.15443469e+02 1.00000000e+03]\n",
      "[1.00000000e-03 4.64158883e-03 2.15443469e-02 1.00000000e-01\n",
      " 4.64158883e-01 2.15443469e+00 1.00000000e+01 4.64158883e+01\n",
      " 2.15443469e+02 1.00000000e+03]\n"
     ]
    }
   ],
   "source": [
    "#para_regul = np.linspace(1E-3,1E5,num = 10)\n",
    "para_regul_lineal = np.logspace(-3,3,num = 10)\n",
    "print(para_regul_lineal)\n",
    "para_regul = np.logspace(-3,5,num = 10)\n",
    "print(para_regul_lineal)"
   ]
  },
  {
   "cell_type": "markdown",
   "metadata": {},
   "source": [
    "### Búsqueda de Hiperparámetros con GridSearch\n",
    "\n",
    "#### Caso 1: Kernel Lineal"
   ]
  },
  {
   "cell_type": "code",
   "execution_count": 22,
   "metadata": {},
   "outputs": [
    {
     "name": "stdout",
     "output_type": "stream",
     "text": [
      "0.4388888888888889 0.001\n",
      "0.4638888888888889 0.004641588833612777\n",
      "0.46944444444444444 0.021544346900318832\n",
      "0.4722222222222222 0.1\n",
      "0.4861111111111111 0.46415888336127775\n"
     ]
    }
   ],
   "source": [
    "max_score_lineal = 0\n",
    "score_lineal = np.array([])\n",
    "best_model_lineal = 0\n",
    "for i in para_regul_lineal:\n",
    "    svc_linear = SVC(kernel='linear',C=i)\n",
    "    svc_linear.fit(x_train,y_train)\n",
    "    pred = svc_linear.predict(x_test)\n",
    "    sco_lineal = accuracy_score(y_test,pred)\n",
    "    score_lineal = np.append(score_lineal,sco_lineal)\n",
    "    if sco_lineal > max_score_lineal:\n",
    "        print(sco_lineal,i)\n",
    "        max_score_lineal = sco_lineal\n",
    "        best_model_lineal = svc_linear"
   ]
  },
  {
   "cell_type": "code",
   "execution_count": 23,
   "metadata": {},
   "outputs": [
    {
     "name": "stdout",
     "output_type": "stream",
     "text": [
      "the best score is <built-in method max of numpy.ndarray object at 0x000001F138EBA4B0>\n",
      "The best model is with the C equal to 3.593813663804626\n"
     ]
    }
   ],
   "source": [
    "print(f'the best score is {score_lineal.max}')\n",
    "print(f'The best model is with the C equal to {para_regul[np.argmax(score_lineal)]}')"
   ]
  },
  {
   "cell_type": "markdown",
   "metadata": {},
   "source": [
    "#### Caso 2: Kernel Polinomial"
   ]
  },
  {
   "cell_type": "code",
   "execution_count": 20,
   "metadata": {},
   "outputs": [
    {
     "name": "stdout",
     "output_type": "stream",
     "text": [
      "0.4638888888888889 0.001 1\n",
      "0.5222222222222223 0.007742636826811269 2\n",
      "0.5333333333333333 0.05994842503189409 2\n"
     ]
    }
   ],
   "source": [
    "max_score_polinomial = 0\n",
    "score_polinomial = np.zeros((4,10))\n",
    "best_model_poli = 0\n",
    "deg = [i for i in range(1,4,1)]\n",
    "for id,i in enumerate(para_regul):\n",
    "    for idx,j in enumerate(deg):\n",
    "        svc_poly = SVC(kernel='poly',C=i,degree=j)\n",
    "        svc_poly.fit(x_train,y_train)\n",
    "        pred = svc_poly.predict(x_test)\n",
    "        sco_poly = accuracy_score(y_test,pred)\n",
    "        score_polinomial[idx,id] = sco_poly\n",
    "        if sco_poly > max_score_polinomial:\n",
    "            print(sco_poly,i,j)\n",
    "            max_score_polinomial = sco_poly\n",
    "            best_model_poli = svc_poly"
   ]
  },
  {
   "cell_type": "code",
   "execution_count": 21,
   "metadata": {},
   "outputs": [
    {
     "name": "stdout",
     "output_type": "stream",
     "text": [
      "the best score is 0.5333333333333333\n"
     ]
    }
   ],
   "source": [
    "print(f'the best score is {score_polinomial.max()}')\n",
    "#print(f'The best model is with the C equal to {para_regul[np.argmax(score_polinomial)]}')"
   ]
  },
  {
   "cell_type": "markdown",
   "metadata": {},
   "source": [
    "#### Caso 3: Función Base Radial"
   ]
  },
  {
   "cell_type": "code",
   "execution_count": 12,
   "metadata": {},
   "outputs": [
    {
     "name": "stdout",
     "output_type": "stream",
     "text": [
      "0.4638888888888889 0.001\n",
      "0.4861111111111111 0.05994842503189409\n",
      "0.49722222222222223 0.46415888336127775\n",
      "0.5 3.593813663804626\n",
      "0.5083333333333333 1668.1005372000557\n",
      "0.5444444444444444 12915.496650148827\n"
     ]
    }
   ],
   "source": [
    "max_score_rbf = 0\n",
    "score_rbf = np.array([])\n",
    "best_model_rbf = 0\n",
    "for i in para_regul:\n",
    "    svc_rbf = SVC(kernel='rbf',C=i)\n",
    "    svc_rbf.fit(x_train,y_train)\n",
    "    pred = svc_rbf.predict(x_test)\n",
    "    sco_rbf = accuracy_score(y_test,pred)\n",
    "    score_rbf = np.append(score_rbf,sco_rbf)\n",
    "    if sco_rbf > max_score_rbf:\n",
    "        print(sco_rbf,i)\n",
    "        max_score_rbf = sco_rbf\n",
    "        best_model_rbf = svc_rbf"
   ]
  },
  {
   "cell_type": "code",
   "execution_count": 14,
   "metadata": {},
   "outputs": [
    {
     "name": "stdout",
     "output_type": "stream",
     "text": [
      "the best score is 0.5444444444444444\n",
      "The best model is with the C equal to 12915.496650148827\n"
     ]
    }
   ],
   "source": [
    "print(f'the best score is {score_rbf.max()}')\n",
    "print(f'The best model is with the C equal to {para_regul[np.argmax(score_rbf)]}')"
   ]
  },
  {
   "cell_type": "markdown",
   "metadata": {},
   "source": [
    "#### Caso 4: Kernel Sigmoide"
   ]
  },
  {
   "cell_type": "code",
   "execution_count": 16,
   "metadata": {},
   "outputs": [
    {
     "name": "stdout",
     "output_type": "stream",
     "text": [
      "0.4638888888888889\n",
      "0.49444444444444446\n",
      "0.49722222222222223\n"
     ]
    }
   ],
   "source": [
    "max_score_sigm = 0\n",
    "score_sigm = np.array([])\n",
    "best_model_sigm = 0\n",
    "for i in para_regul:\n",
    "    svc_sigm = SVC(kernel='sigmoid',C=i)\n",
    "    svc_sigm.fit(x_train,y_train)\n",
    "    pred = svc_sigm.predict(x_test)\n",
    "    sco_sigm = accuracy_score(y_test,pred)\n",
    "    score_sigm = np.append(score_sigm,sco_sigm)\n",
    "    if sco_sigm > max_score_sigm:\n",
    "        print(sco_sigm)\n",
    "        max_score_sigm = sco_sigm\n",
    "        best_model_sigm = svc_sigm"
   ]
  },
  {
   "cell_type": "code",
   "execution_count": 17,
   "metadata": {},
   "outputs": [
    {
     "name": "stdout",
     "output_type": "stream",
     "text": [
      "the best score is 0.49722222222222223\n",
      "The best model is with the C equal to 27.825594022071257\n"
     ]
    }
   ],
   "source": [
    "print(f'the best score is {score_sigm.max()}')\n",
    "print(f'The best model is with the C equal to {para_regul[np.argmax(score_sigm)]}')"
   ]
  },
  {
   "cell_type": "markdown",
   "metadata": {},
   "source": [
    "## Parte 2: Análisis de Resultados\n",
    "\n",
    "Ahora, basado en los resultados anteriores, obtenga una evaluación final del mejor modelo y concluya sobre la pertinencia del mismo dentro del contexto de este problema."
   ]
  },
  {
   "cell_type": "code",
   "execution_count": null,
   "metadata": {},
   "outputs": [],
   "source": [
    "from sklearn.metrics import accuracy_score\n",
    "\n",
    "best_classifier = SVC(C= # #, kernel=# #, degree=# En caso de utilizar un Kernel polinomial #) # Parámetros del clasificador #\n",
    "best_classifier.fit(x_train, y_train)    \n",
    "\n",
    "y_pred = best_classifier.predict(x_val)\n",
    "\n",
    "# Evaluación\n",
    "print(f\"Best classifier: {accuracy_score(y_test,y_pred)}\")\n",
    "print(f\"Reporte de Clasificación:\\n{classification_report(y_test, y_pred_rf)}\")"
   ]
  },
  {
   "cell_type": "markdown",
   "metadata": {},
   "source": [
    "## Conclusiones"
   ]
  },
  {
   "cell_type": "markdown",
   "metadata": {},
   "source": []
  }
 ],
 "metadata": {
  "kernelspec": {
   "display_name": "Python 3",
   "language": "python",
   "name": "python3"
  },
  "language_info": {
   "codemirror_mode": {
    "name": "ipython",
    "version": 3
   },
   "file_extension": ".py",
   "mimetype": "text/x-python",
   "name": "python",
   "nbconvert_exporter": "python",
   "pygments_lexer": "ipython3",
   "version": "3.9.7"
  }
 },
 "nbformat": 4,
 "nbformat_minor": 4
}
